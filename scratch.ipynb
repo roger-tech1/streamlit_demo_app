{
 "cells": [
  {
   "cell_type": "code",
   "execution_count": 13,
   "metadata": {},
   "outputs": [],
   "source": [
    "import requests\n",
    "import os\n",
    "from dotenv import load_dotenv\n",
    "\n",
    "# Load variables from .env file\n",
    "load_dotenv()\n",
    "\n",
    "step_arn = os.environ.get('STEP_ARN')\n",
    "step_key = os.environ.get('STEP_API_KEY')\n",
    "\n",
    "# step request function\n",
    "def step_request(input_query):\n",
    "  endpoint_url = 'https://p1oiumm9wc.execute-api.us-west-2.amazonaws.com/dev'\n",
    "  headers = {\n",
    "    'x-api-key': step_key,\n",
    "    'Content-Type': 'application/json'  # Adjust the content type if needed\n",
    "  }\n",
    "\n",
    "  print(headers) \n",
    "  # formulate payload based on input query\n",
    "  data = {\n",
    "      \"input\": f'{{\"query\": \"{input_query}\"}}',\n",
    "      \"name\": \"MyExecution\",\n",
    "      \"stateMachineArn\": step_arn\n",
    "  }\n",
    "    \n",
    "  # make request\n",
    "  response = requests.post(endpoint_url, json=data, headers=headers, timeout=900)\n",
    "\n",
    "  # Check the response\n",
    "  if response.status_code == 200:\n",
    "      print('Request succeeded with JSON response:', response.json())\n",
    "  else:\n",
    "      print('Request failed, status code:', response.status_code)"
   ]
  },
  {
   "cell_type": "code",
   "execution_count": 14,
   "metadata": {},
   "outputs": [
    {
     "name": "stdout",
     "output_type": "stream",
     "text": [
      "{'x-api-key': 'OjPjQcmaCr1O6Ky6B9JrH93eFgpIrlzu8HBpcjMN', 'Content-Type': 'application/json'}\n",
      "{'input': '{\"query\": \"this is a test\"}', 'name': 'MyExecution', 'stateMachineArn': 'arn:aws:states:us-west-2:453900232671:stateMachine:BoM_QA'}\n"
     ]
    }
   ],
   "source": [
    "step_request('this is a test')"
   ]
  },
  {
   "cell_type": "code",
   "execution_count": null,
   "metadata": {},
   "outputs": [],
   "source": []
  }
 ],
 "metadata": {
  "kernelspec": {
   "display_name": "venv",
   "language": "python",
   "name": "python3"
  },
  "language_info": {
   "codemirror_mode": {
    "name": "ipython",
    "version": 3
   },
   "file_extension": ".py",
   "mimetype": "text/x-python",
   "name": "python",
   "nbconvert_exporter": "python",
   "pygments_lexer": "ipython3",
   "version": "3.10.12"
  },
  "orig_nbformat": 4
 },
 "nbformat": 4,
 "nbformat_minor": 2
}
