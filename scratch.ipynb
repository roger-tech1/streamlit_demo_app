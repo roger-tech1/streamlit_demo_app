{
 "cells": [
  {
   "cell_type": "code",
   "execution_count": 29,
   "metadata": {},
   "outputs": [],
   "source": [
    "import requests\n",
    "import os\n",
    "import json\n",
    "from dotenv import load_dotenv\n",
    "\n",
    "# Load variables from .env file\n",
    "load_dotenv()\n",
    "\n",
    "step_arn = os.environ.get('STEP_ARN')\n",
    "step_key = os.environ.get('STEP_API_KEY')\n",
    "\n",
    "# step request function\n",
    "def step_request(input_query):\n",
    "  endpoint_url = 'https://p1oiumm9wc.execute-api.us-west-2.amazonaws.com/dev'\n",
    "  headers = {\n",
    "    'x-api-key': step_key,\n",
    "    'Content-Type': 'application/json'  # Adjust the content type if needed\n",
    "  }\n",
    "\n",
    "  # formulate payload based on input query\n",
    "  json_query = json.dumps(input_query)\n",
    "  data = {\n",
    "      \"input\": f'{{\"query\": {json_query}}}',\n",
    "      \"name\": \"MyExecution\",\n",
    "      \"stateMachineArn\": step_arn\n",
    "  }\n",
    "\n",
    "  # make request\n",
    "  response = requests.post(endpoint_url, json=data, headers=headers, timeout=900)\n",
    "\n",
    "  # Check the response\n",
    "  if response.status_code == 200:\n",
    "      # unpack response and return\n",
    "      try:\n",
    "          step_response = response.json()\n",
    "          output = json.loads(step_response['output'])\n",
    "          body = json.loads(output['body'])\n",
    "          result = body['result']\n",
    "          return result \n",
    "      except Exception as e:\n",
    "          return e\n",
    "  else:\n",
    "      fail_message = f'Request failed, status code: {response.status_code}'\n",
    "      return fail_message"
   ]
  },
  {
   "cell_type": "code",
   "execution_count": 30,
   "metadata": {},
   "outputs": [],
   "source": [
    "test_query = 'tell me the full verse that this snippet comes from - \"And they came down and went forth upon the face of the earth\"'\n",
    "step_response = step_request(test_query)"
   ]
  },
  {
   "cell_type": "code",
   "execution_count": 31,
   "metadata": {},
   "outputs": [
    {
     "data": {
      "text/plain": [
       "{'billingDetails': {'billedDurationInMilliseconds': 26500,\n",
       "  'billedMemoryUsedInMB': 64},\n",
       " 'executionArn': 'arn:aws:states:us-west-2:453900232671:express:BoM_QA:MyExecution:d53d50cf-ad7d-4ce0-97e3-13b021f8c1bd',\n",
       " 'input': '{\"query\": \"tell me the full verse that this snippet comes from - \\\\\"And they came down and went forth upon the face of the earth\\\\\"\"}',\n",
       " 'inputDetails': {'__type': 'com.amazonaws.swf.base.model#CloudWatchEventsExecutionDataDetails',\n",
       "  'included': True},\n",
       " 'name': 'MyExecution',\n",
       " 'output': '{\"statusCode\":200,\"body\":\"{\\\\\"message\\\\\": \\\\\"SUCCESS: llm summary ran successfully for query tell me the full verse that this snippet comes from - \\\\\\\\\\\\\"And they came down and went forth upon the face of the earth\\\\\\\\\\\\\"\\\\\", \\\\\"result\\\\\": \\\\\"\\\\\\\\\\\\\"And they came down and went forth upon the face of the earth; and the first came and stood before my father, and gave unto him a book, and bade him that he should read.\\\\\\\\\\\\\" (1 Nephi 1:11)\\\\\"}\",\"headers\":{\"Content-Type\":\"application/json\"}}',\n",
       " 'outputDetails': {'__type': 'com.amazonaws.swf.base.model#CloudWatchEventsExecutionDataDetails',\n",
       "  'included': True},\n",
       " 'startDate': 1692133831.24,\n",
       " 'stateMachineArn': 'arn:aws:states:us-west-2:453900232671:stateMachine:BoM_QA',\n",
       " 'status': 'SUCCEEDED',\n",
       " 'stopDate': 1692133857.674,\n",
       " 'traceHeader': 'Root=1-64dbe9c7-6b6f20f133aaf1903c9373bb;Sampled=1'}"
      ]
     },
     "execution_count": 31,
     "metadata": {},
     "output_type": "execute_result"
    }
   ],
   "source": [
    "step_response"
   ]
  },
  {
   "cell_type": "code",
   "execution_count": 38,
   "metadata": {},
   "outputs": [
    {
     "data": {
      "text/plain": [
       "'\"And they came down and went forth upon the face of the earth; and the first came and stood before my father, and gave unto him a book, and bade him that he should read.\" (1 Nephi 1:11)'"
      ]
     },
     "execution_count": 38,
     "metadata": {},
     "output_type": "execute_result"
    }
   ],
   "source": [
    "step_response"
   ]
  },
  {
   "cell_type": "code",
   "execution_count": 27,
   "metadata": {},
   "outputs": [],
   "source": []
  },
  {
   "cell_type": "code",
   "execution_count": 31,
   "metadata": {},
   "outputs": [],
   "source": []
  },
  {
   "cell_type": "code",
   "execution_count": 32,
   "metadata": {},
   "outputs": [
    {
     "data": {
      "text/plain": [
       "'\"And they came down and went forth upon the face of the earth; and the first came and stood before my father, and gave unto him a book, and bade him that he should read.\" (1 Nephi 1:11)'"
      ]
     },
     "execution_count": 32,
     "metadata": {},
     "output_type": "execute_result"
    }
   ],
   "source": [
    "result"
   ]
  },
  {
   "cell_type": "code",
   "execution_count": null,
   "metadata": {},
   "outputs": [],
   "source": []
  }
 ],
 "metadata": {
  "kernelspec": {
   "display_name": "venv",
   "language": "python",
   "name": "python3"
  },
  "language_info": {
   "codemirror_mode": {
    "name": "ipython",
    "version": 3
   },
   "file_extension": ".py",
   "mimetype": "text/x-python",
   "name": "python",
   "nbconvert_exporter": "python",
   "pygments_lexer": "ipython3",
   "version": "3.10.9"
  },
  "orig_nbformat": 4
 },
 "nbformat": 4,
 "nbformat_minor": 2
}
